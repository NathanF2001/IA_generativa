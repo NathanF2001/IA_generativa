{
 "cells": [
  {
   "cell_type": "code",
   "execution_count": 3,
   "metadata": {},
   "outputs": [],
   "source": [
    "import pandas as pd\n",
    "import numpy as np\n",
    "import os"
   ]
  },
  {
   "cell_type": "code",
   "execution_count": null,
   "metadata": {},
   "outputs": [],
   "source": [
    "# Apenas rodar esse notebook após capturar resultados dos modelo de AI Gen que estará em \"./results\""
   ]
  },
  {
   "cell_type": "code",
   "execution_count": 2,
   "metadata": {},
   "outputs": [],
   "source": [
    "results = sorted(os.listdir(\"./result\"), key=lambda x: int(x.split(\"_\")[1]))"
   ]
  },
  {
   "cell_type": "code",
   "execution_count": 18,
   "metadata": {},
   "outputs": [],
   "source": [
    "df = pd.DataFrame()"
   ]
  },
  {
   "cell_type": "code",
   "execution_count": 3,
   "metadata": {},
   "outputs": [],
   "source": [
    "df = pd.DataFrame()\n",
    "\n",
    "for i, path in enumerate(results):\n",
    "\n",
    "    df_result_range = pd.read_csv(f\"result/{path}\" ,sep =\";\")\n",
    "\n",
    "    if (i+1) % 14 == 0:\n",
    "        df_result_range = df_result_range.iloc[:5,:]\n",
    "\n",
    "    df = pd.concat([df, df_result_range])"
   ]
  },
  {
   "cell_type": "code",
   "execution_count": null,
   "metadata": {},
   "outputs": [],
   "source": []
  },
  {
   "cell_type": "code",
   "execution_count": 4,
   "metadata": {},
   "outputs": [],
   "source": [
    "real_label_eggs = pd.read_excel(\"./IAGenOvoscopia/OVOSCOPIA-1RODADA - Sem 28dias.xlsx\")\n",
    "real_label_eggs.columns = [\"N_OVO\", \"OVOSCOPIA\", 'TEMPO', 'observações']"
   ]
  },
  {
   "cell_type": "code",
   "execution_count": 5,
   "metadata": {},
   "outputs": [],
   "source": [
    "real_label_eggs[\"path_image\"] = [os.path.join(os.getcwd(), \"images\", \"unique_eggs\", f\"ovo_{i}.jpg\") for i in range(1,801)]"
   ]
  },
  {
   "cell_type": "code",
   "execution_count": 7,
   "metadata": {},
   "outputs": [
    {
     "data": {
      "text/plain": [
       "'c:\\\\Mestrado\\\\IA GEN\\\\1 VA\\\\IA_generativa\\\\images\\\\unique_eggs\\\\ovo_2.jpg'"
      ]
     },
     "execution_count": 7,
     "metadata": {},
     "output_type": "execute_result"
    }
   ],
   "source": [
    "real_label_eggs.loc[1,'path_image']"
   ]
  },
  {
   "cell_type": "code",
   "execution_count": 12,
   "metadata": {},
   "outputs": [],
   "source": [
    "def get_sample_one_type(df, type, amount):\n",
    "\n",
    "    if amount % 2 != 0:\n",
    "        raise Exception('A quantidade deve ser par')\n",
    "    \n",
    "    filter_df = df[df['OVOSCOPIA'] == type]\n",
    "\n",
    "    if amount > filter_df.shape[0]:\n",
    "        raise Exception(f'A quantidade maior que a quantidade de ovo do tipo {type}')\n",
    "\n",
    "    return filter_df.sample(amount)"
   ]
  },
  {
   "cell_type": "code",
   "execution_count": 6,
   "metadata": {},
   "outputs": [
    {
     "data": {
      "text/html": [
       "<div>\n",
       "<style scoped>\n",
       "    .dataframe tbody tr th:only-of-type {\n",
       "        vertical-align: middle;\n",
       "    }\n",
       "\n",
       "    .dataframe tbody tr th {\n",
       "        vertical-align: top;\n",
       "    }\n",
       "\n",
       "    .dataframe thead th {\n",
       "        text-align: right;\n",
       "    }\n",
       "</style>\n",
       "<table border=\"1\" class=\"dataframe\">\n",
       "  <thead>\n",
       "    <tr style=\"text-align: right;\">\n",
       "      <th></th>\n",
       "      <th>N_OVO</th>\n",
       "      <th>OVOSCOPIA</th>\n",
       "      <th>TEMPO</th>\n",
       "      <th>observações</th>\n",
       "      <th>path_image</th>\n",
       "    </tr>\n",
       "  </thead>\n",
       "  <tbody>\n",
       "    <tr>\n",
       "      <th>0</th>\n",
       "      <td>1</td>\n",
       "      <td>2</td>\n",
       "      <td>0</td>\n",
       "      <td>NaN</td>\n",
       "      <td>c:\\Mestrado\\IA GEN\\1 VA\\IA_generativa\\images\\u...</td>\n",
       "    </tr>\n",
       "    <tr>\n",
       "      <th>1</th>\n",
       "      <td>2</td>\n",
       "      <td>1</td>\n",
       "      <td>0</td>\n",
       "      <td>NaN</td>\n",
       "      <td>c:\\Mestrado\\IA GEN\\1 VA\\IA_generativa\\images\\u...</td>\n",
       "    </tr>\n",
       "    <tr>\n",
       "      <th>2</th>\n",
       "      <td>3</td>\n",
       "      <td>2</td>\n",
       "      <td>0</td>\n",
       "      <td>NaN</td>\n",
       "      <td>c:\\Mestrado\\IA GEN\\1 VA\\IA_generativa\\images\\u...</td>\n",
       "    </tr>\n",
       "    <tr>\n",
       "      <th>3</th>\n",
       "      <td>4</td>\n",
       "      <td>2</td>\n",
       "      <td>0</td>\n",
       "      <td>NaN</td>\n",
       "      <td>c:\\Mestrado\\IA GEN\\1 VA\\IA_generativa\\images\\u...</td>\n",
       "    </tr>\n",
       "    <tr>\n",
       "      <th>4</th>\n",
       "      <td>5</td>\n",
       "      <td>1</td>\n",
       "      <td>0</td>\n",
       "      <td>NaN</td>\n",
       "      <td>c:\\Mestrado\\IA GEN\\1 VA\\IA_generativa\\images\\u...</td>\n",
       "    </tr>\n",
       "    <tr>\n",
       "      <th>...</th>\n",
       "      <td>...</td>\n",
       "      <td>...</td>\n",
       "      <td>...</td>\n",
       "      <td>...</td>\n",
       "      <td>...</td>\n",
       "    </tr>\n",
       "    <tr>\n",
       "      <th>795</th>\n",
       "      <td>796</td>\n",
       "      <td>4</td>\n",
       "      <td>21</td>\n",
       "      <td>NaN</td>\n",
       "      <td>c:\\Mestrado\\IA GEN\\1 VA\\IA_generativa\\images\\u...</td>\n",
       "    </tr>\n",
       "    <tr>\n",
       "      <th>796</th>\n",
       "      <td>797</td>\n",
       "      <td>2</td>\n",
       "      <td>21</td>\n",
       "      <td>NaN</td>\n",
       "      <td>c:\\Mestrado\\IA GEN\\1 VA\\IA_generativa\\images\\u...</td>\n",
       "    </tr>\n",
       "    <tr>\n",
       "      <th>797</th>\n",
       "      <td>798</td>\n",
       "      <td>2</td>\n",
       "      <td>21</td>\n",
       "      <td>NaN</td>\n",
       "      <td>c:\\Mestrado\\IA GEN\\1 VA\\IA_generativa\\images\\u...</td>\n",
       "    </tr>\n",
       "    <tr>\n",
       "      <th>798</th>\n",
       "      <td>799</td>\n",
       "      <td>1</td>\n",
       "      <td>21</td>\n",
       "      <td>NaN</td>\n",
       "      <td>c:\\Mestrado\\IA GEN\\1 VA\\IA_generativa\\images\\u...</td>\n",
       "    </tr>\n",
       "    <tr>\n",
       "      <th>799</th>\n",
       "      <td>800</td>\n",
       "      <td>1</td>\n",
       "      <td>21</td>\n",
       "      <td>NaN</td>\n",
       "      <td>c:\\Mestrado\\IA GEN\\1 VA\\IA_generativa\\images\\u...</td>\n",
       "    </tr>\n",
       "  </tbody>\n",
       "</table>\n",
       "<p>800 rows × 5 columns</p>\n",
       "</div>"
      ],
      "text/plain": [
       "     N_OVO  OVOSCOPIA  TEMPO observações  \\\n",
       "0        1          2      0         NaN   \n",
       "1        2          1      0         NaN   \n",
       "2        3          2      0         NaN   \n",
       "3        4          2      0         NaN   \n",
       "4        5          1      0         NaN   \n",
       "..     ...        ...    ...         ...   \n",
       "795    796          4     21         NaN   \n",
       "796    797          2     21         NaN   \n",
       "797    798          2     21         NaN   \n",
       "798    799          1     21         NaN   \n",
       "799    800          1     21         NaN   \n",
       "\n",
       "                                            path_image  \n",
       "0    c:\\Mestrado\\IA GEN\\1 VA\\IA_generativa\\images\\u...  \n",
       "1    c:\\Mestrado\\IA GEN\\1 VA\\IA_generativa\\images\\u...  \n",
       "2    c:\\Mestrado\\IA GEN\\1 VA\\IA_generativa\\images\\u...  \n",
       "3    c:\\Mestrado\\IA GEN\\1 VA\\IA_generativa\\images\\u...  \n",
       "4    c:\\Mestrado\\IA GEN\\1 VA\\IA_generativa\\images\\u...  \n",
       "..                                                 ...  \n",
       "795  c:\\Mestrado\\IA GEN\\1 VA\\IA_generativa\\images\\u...  \n",
       "796  c:\\Mestrado\\IA GEN\\1 VA\\IA_generativa\\images\\u...  \n",
       "797  c:\\Mestrado\\IA GEN\\1 VA\\IA_generativa\\images\\u...  \n",
       "798  c:\\Mestrado\\IA GEN\\1 VA\\IA_generativa\\images\\u...  \n",
       "799  c:\\Mestrado\\IA GEN\\1 VA\\IA_generativa\\images\\u...  \n",
       "\n",
       "[800 rows x 5 columns]"
      ]
     },
     "execution_count": 6,
     "metadata": {},
     "output_type": "execute_result"
    }
   ],
   "source": [
    "real_label_eggs"
   ]
  },
  {
   "cell_type": "code",
   "execution_count": 8,
   "metadata": {},
   "outputs": [
    {
     "data": {
      "text/plain": [
       "0     c:\\Mestrado\\IA GEN\\1 VA\\IA_generativa\\images\\u...\n",
       "1     c:\\Mestrado\\IA GEN\\1 VA\\IA_generativa\\images\\u...\n",
       "2     c:\\Mestrado\\IA GEN\\1 VA\\IA_generativa\\images\\u...\n",
       "3     c:\\Mestrado\\IA GEN\\1 VA\\IA_generativa\\images\\u...\n",
       "4     c:\\Mestrado\\IA GEN\\1 VA\\IA_generativa\\images\\u...\n",
       "5     c:\\Mestrado\\IA GEN\\1 VA\\IA_generativa\\images\\u...\n",
       "6     c:\\Mestrado\\IA GEN\\1 VA\\IA_generativa\\images\\u...\n",
       "7     c:\\Mestrado\\IA GEN\\1 VA\\IA_generativa\\images\\u...\n",
       "8     c:\\Mestrado\\IA GEN\\1 VA\\IA_generativa\\images\\u...\n",
       "9     c:\\Mestrado\\IA GEN\\1 VA\\IA_generativa\\images\\u...\n",
       "10    c:\\Mestrado\\IA GEN\\1 VA\\IA_generativa\\images\\u...\n",
       "11    c:\\Mestrado\\IA GEN\\1 VA\\IA_generativa\\images\\u...\n",
       "12    c:\\Mestrado\\IA GEN\\1 VA\\IA_generativa\\images\\u...\n",
       "13    c:\\Mestrado\\IA GEN\\1 VA\\IA_generativa\\images\\u...\n",
       "14    c:\\Mestrado\\IA GEN\\1 VA\\IA_generativa\\images\\u...\n",
       "15    c:\\Mestrado\\IA GEN\\1 VA\\IA_generativa\\images\\u...\n",
       "16    c:\\Mestrado\\IA GEN\\1 VA\\IA_generativa\\images\\u...\n",
       "17    c:\\Mestrado\\IA GEN\\1 VA\\IA_generativa\\images\\u...\n",
       "18    c:\\Mestrado\\IA GEN\\1 VA\\IA_generativa\\images\\u...\n",
       "19    c:\\Mestrado\\IA GEN\\1 VA\\IA_generativa\\images\\u...\n",
       "Name: path_image, dtype: object"
      ]
     },
     "execution_count": 8,
     "metadata": {},
     "output_type": "execute_result"
    }
   ],
   "source": [
    "real_label_eggs.loc[0:19, :]"
   ]
  },
  {
   "cell_type": "code",
   "execution_count": 9,
   "metadata": {},
   "outputs": [
    {
     "data": {
      "text/html": [
       "<div>\n",
       "<style scoped>\n",
       "    .dataframe tbody tr th:only-of-type {\n",
       "        vertical-align: middle;\n",
       "    }\n",
       "\n",
       "    .dataframe tbody tr th {\n",
       "        vertical-align: top;\n",
       "    }\n",
       "\n",
       "    .dataframe thead th {\n",
       "        text-align: right;\n",
       "    }\n",
       "</style>\n",
       "<table border=\"1\" class=\"dataframe\">\n",
       "  <thead>\n",
       "    <tr style=\"text-align: right;\">\n",
       "      <th></th>\n",
       "      <th>N_OVO</th>\n",
       "      <th>OVOSCOPIA</th>\n",
       "      <th>TEMPO</th>\n",
       "      <th>observações</th>\n",
       "      <th>path_image</th>\n",
       "    </tr>\n",
       "  </thead>\n",
       "  <tbody>\n",
       "    <tr>\n",
       "      <th>453</th>\n",
       "      <td>454</td>\n",
       "      <td>1</td>\n",
       "      <td>14</td>\n",
       "      <td>NaN</td>\n",
       "      <td>c:\\Mestrado\\IA GEN\\1 VA\\IA_generativa\\images\\u...</td>\n",
       "    </tr>\n",
       "    <tr>\n",
       "      <th>330</th>\n",
       "      <td>331</td>\n",
       "      <td>4</td>\n",
       "      <td>7</td>\n",
       "      <td>NaN</td>\n",
       "      <td>c:\\Mestrado\\IA GEN\\1 VA\\IA_generativa\\images\\u...</td>\n",
       "    </tr>\n",
       "    <tr>\n",
       "      <th>294</th>\n",
       "      <td>295</td>\n",
       "      <td>2</td>\n",
       "      <td>7</td>\n",
       "      <td>NaN</td>\n",
       "      <td>c:\\Mestrado\\IA GEN\\1 VA\\IA_generativa\\images\\u...</td>\n",
       "    </tr>\n",
       "  </tbody>\n",
       "</table>\n",
       "</div>"
      ],
      "text/plain": [
       "     N_OVO  OVOSCOPIA  TEMPO observações  \\\n",
       "453    454          1     14         NaN   \n",
       "330    331          4      7         NaN   \n",
       "294    295          2      7         NaN   \n",
       "\n",
       "                                            path_image  \n",
       "453  c:\\Mestrado\\IA GEN\\1 VA\\IA_generativa\\images\\u...  \n",
       "330  c:\\Mestrado\\IA GEN\\1 VA\\IA_generativa\\images\\u...  \n",
       "294  c:\\Mestrado\\IA GEN\\1 VA\\IA_generativa\\images\\u...  "
      ]
     },
     "execution_count": 9,
     "metadata": {},
     "output_type": "execute_result"
    }
   ],
   "source": [
    "real_label_eggs.sample(3)"
   ]
  },
  {
   "cell_type": "code",
   "execution_count": 26,
   "metadata": {},
   "outputs": [],
   "source": [
    "sample = []\n",
    "    \n",
    "for type in range(1,5):\n",
    "    filter_df = real_label_eggs[real_label_eggs['OVOSCOPIA'] == type]\n",
    "\n",
    "    for item in filter_df.sample(4).apply(lambda x: [x['path_image'], type], axis = 1).tolist():\n",
    "            sample.append(item)"
   ]
  },
  {
   "cell_type": "code",
   "execution_count": 2,
   "metadata": {},
   "outputs": [],
   "source": [
    "import os"
   ]
  },
  {
   "cell_type": "code",
   "execution_count": 15,
   "metadata": {},
   "outputs": [],
   "source": [
    "with open(os.path.join(os.getcwd(), \"models\", \"prompts\", \"matrix_2x2.txt\"), 'r', encoding='utf-8') as file:\n",
    "    linhas = \"\".join(file.readlines())"
   ]
  },
  {
   "cell_type": "code",
   "execution_count": 16,
   "metadata": {},
   "outputs": [
    {
     "data": {
      "text/plain": [
       "'Você é uma zootecnista avícola especializada na avaliação de ovos. E irá classificar os ovos em 4 categorias de 1 a 4 a partir de uma imagem provida como entrada no prompt. Deve-se avaliar a qualidade dos ovos, verificando fissuras na casca, problemas no desenvolvimento do embrião ou alterações na câmara de ar.\\nA imagem terá 20 ovos distribuidos em um matriz 4x5, onde cada célular tem a dimensão 329x412 pixels. Como resultado deve-se retornar um csv com a enumeração do ovo e sua respectiva classificação.\\nA enumeração deve ser de baixo para cima, da esquerda para direita.\\nAs primeira 4 imagens serão de treinamento para cada tipo, cada celula dessas imagens de treinamento tem 329x412 pixels.\\nA primeira imagem será do tipo 1, segunda do tipo 2, terceira tipo 3 e a quarta do tipo 4.\\nDeve ser retornado um csv com a enumeração do ovo com sua respectiva classificação. Apenas retorne o csv separado com \";\" com as colunas number e classification, somente isso.'"
      ]
     },
     "execution_count": 16,
     "metadata": {},
     "output_type": "execute_result"
    }
   ],
   "source": [
    "linhas"
   ]
  },
  {
   "cell_type": "code",
   "execution_count": 8,
   "metadata": {},
   "outputs": [
    {
     "data": {
      "text/plain": [
       "['c:\\\\Mestrado\\\\IA GEN\\\\1 VA\\\\IA_generativa\\\\images\\\\treated_images\\\\sample_1.jpg',\n",
       " 'c:\\\\Mestrado\\\\IA GEN\\\\1 VA\\\\IA_generativa\\\\images\\\\treated_images\\\\sample_2.jpg',\n",
       " 'c:\\\\Mestrado\\\\IA GEN\\\\1 VA\\\\IA_generativa\\\\images\\\\treated_images\\\\sample_3.jpg',\n",
       " 'c:\\\\Mestrado\\\\IA GEN\\\\1 VA\\\\IA_generativa\\\\images\\\\treated_images\\\\sample_4.jpg',\n",
       " 'c:\\\\Mestrado\\\\IA GEN\\\\1 VA\\\\IA_generativa\\\\images\\\\treated_images\\\\sample_5.jpg',\n",
       " 'c:\\\\Mestrado\\\\IA GEN\\\\1 VA\\\\IA_generativa\\\\images\\\\treated_images\\\\sample_6.jpg',\n",
       " 'c:\\\\Mestrado\\\\IA GEN\\\\1 VA\\\\IA_generativa\\\\images\\\\treated_images\\\\sample_7.jpg',\n",
       " 'c:\\\\Mestrado\\\\IA GEN\\\\1 VA\\\\IA_generativa\\\\images\\\\treated_images\\\\sample_8.jpg',\n",
       " 'c:\\\\Mestrado\\\\IA GEN\\\\1 VA\\\\IA_generativa\\\\images\\\\treated_images\\\\sample_9.jpg',\n",
       " 'c:\\\\Mestrado\\\\IA GEN\\\\1 VA\\\\IA_generativa\\\\images\\\\treated_images\\\\sample_10.jpg',\n",
       " 'c:\\\\Mestrado\\\\IA GEN\\\\1 VA\\\\IA_generativa\\\\images\\\\treated_images\\\\sample_11.jpg',\n",
       " 'c:\\\\Mestrado\\\\IA GEN\\\\1 VA\\\\IA_generativa\\\\images\\\\treated_images\\\\sample_12.jpg',\n",
       " 'c:\\\\Mestrado\\\\IA GEN\\\\1 VA\\\\IA_generativa\\\\images\\\\treated_images\\\\sample_13.jpg',\n",
       " 'c:\\\\Mestrado\\\\IA GEN\\\\1 VA\\\\IA_generativa\\\\images\\\\treated_images\\\\sample_14.jpg',\n",
       " 'c:\\\\Mestrado\\\\IA GEN\\\\1 VA\\\\IA_generativa\\\\images\\\\treated_images\\\\sample_15.jpg',\n",
       " 'c:\\\\Mestrado\\\\IA GEN\\\\1 VA\\\\IA_generativa\\\\images\\\\treated_images\\\\sample_16.jpg',\n",
       " 'c:\\\\Mestrado\\\\IA GEN\\\\1 VA\\\\IA_generativa\\\\images\\\\treated_images\\\\sample_17.jpg',\n",
       " 'c:\\\\Mestrado\\\\IA GEN\\\\1 VA\\\\IA_generativa\\\\images\\\\treated_images\\\\sample_18.jpg',\n",
       " 'c:\\\\Mestrado\\\\IA GEN\\\\1 VA\\\\IA_generativa\\\\images\\\\treated_images\\\\sample_19.jpg',\n",
       " 'c:\\\\Mestrado\\\\IA GEN\\\\1 VA\\\\IA_generativa\\\\images\\\\treated_images\\\\sample_20.jpg',\n",
       " 'c:\\\\Mestrado\\\\IA GEN\\\\1 VA\\\\IA_generativa\\\\images\\\\treated_images\\\\sample_21.jpg',\n",
       " 'c:\\\\Mestrado\\\\IA GEN\\\\1 VA\\\\IA_generativa\\\\images\\\\treated_images\\\\sample_22.jpg',\n",
       " 'c:\\\\Mestrado\\\\IA GEN\\\\1 VA\\\\IA_generativa\\\\images\\\\treated_images\\\\sample_23.jpg',\n",
       " 'c:\\\\Mestrado\\\\IA GEN\\\\1 VA\\\\IA_generativa\\\\images\\\\treated_images\\\\sample_24.jpg',\n",
       " 'c:\\\\Mestrado\\\\IA GEN\\\\1 VA\\\\IA_generativa\\\\images\\\\treated_images\\\\sample_25.jpg',\n",
       " 'c:\\\\Mestrado\\\\IA GEN\\\\1 VA\\\\IA_generativa\\\\images\\\\treated_images\\\\sample_26.jpg',\n",
       " 'c:\\\\Mestrado\\\\IA GEN\\\\1 VA\\\\IA_generativa\\\\images\\\\treated_images\\\\sample_27.jpg',\n",
       " 'c:\\\\Mestrado\\\\IA GEN\\\\1 VA\\\\IA_generativa\\\\images\\\\treated_images\\\\sample_28.jpg',\n",
       " 'c:\\\\Mestrado\\\\IA GEN\\\\1 VA\\\\IA_generativa\\\\images\\\\treated_images\\\\sample_29.jpg',\n",
       " 'c:\\\\Mestrado\\\\IA GEN\\\\1 VA\\\\IA_generativa\\\\images\\\\treated_images\\\\sample_30.jpg',\n",
       " 'c:\\\\Mestrado\\\\IA GEN\\\\1 VA\\\\IA_generativa\\\\images\\\\treated_images\\\\sample_31.jpg',\n",
       " 'c:\\\\Mestrado\\\\IA GEN\\\\1 VA\\\\IA_generativa\\\\images\\\\treated_images\\\\sample_32.jpg',\n",
       " 'c:\\\\Mestrado\\\\IA GEN\\\\1 VA\\\\IA_generativa\\\\images\\\\treated_images\\\\sample_33.jpg',\n",
       " 'c:\\\\Mestrado\\\\IA GEN\\\\1 VA\\\\IA_generativa\\\\images\\\\treated_images\\\\sample_34.jpg',\n",
       " 'c:\\\\Mestrado\\\\IA GEN\\\\1 VA\\\\IA_generativa\\\\images\\\\treated_images\\\\sample_35.jpg',\n",
       " 'c:\\\\Mestrado\\\\IA GEN\\\\1 VA\\\\IA_generativa\\\\images\\\\treated_images\\\\sample_36.jpg',\n",
       " 'c:\\\\Mestrado\\\\IA GEN\\\\1 VA\\\\IA_generativa\\\\images\\\\treated_images\\\\sample_37.jpg',\n",
       " 'c:\\\\Mestrado\\\\IA GEN\\\\1 VA\\\\IA_generativa\\\\images\\\\treated_images\\\\sample_38.jpg',\n",
       " 'c:\\\\Mestrado\\\\IA GEN\\\\1 VA\\\\IA_generativa\\\\images\\\\treated_images\\\\sample_39.jpg',\n",
       " 'c:\\\\Mestrado\\\\IA GEN\\\\1 VA\\\\IA_generativa\\\\images\\\\treated_images\\\\sample_40.jpg']"
      ]
     },
     "execution_count": 8,
     "metadata": {},
     "output_type": "execute_result"
    }
   ],
   "source": [
    "paths = []\n",
    "folder_path = os.path.join(os.getcwd(), \"images\", \"treated_images\")\n",
    "\n",
    "for file_name in os.listdir(folder_path):\n",
    "    if file_name.lower().endswith(('.jpg', '.jpeg', '.png')):\n",
    "        image_path = os.path.join(folder_path, file_name)\n",
    "        paths.append(image_path)\n",
    "\n",
    "sorted(paths, key=lambda i: int(i.split(\"sample_\")[1].split(\".\")[0]))"
   ]
  },
  {
   "cell_type": "code",
   "execution_count": 42,
   "metadata": {},
   "outputs": [
    {
     "data": {
      "text/plain": [
       "['c:\\\\Mestrado\\\\IA GEN\\\\1 VA\\\\IA_generativa\\\\images\\\\unique_eggs\\\\ovo_1.jpg',\n",
       " 'c:\\\\Mestrado\\\\IA GEN\\\\1 VA\\\\IA_generativa\\\\images\\\\unique_eggs\\\\ovo_2.jpg',\n",
       " 'c:\\\\Mestrado\\\\IA GEN\\\\1 VA\\\\IA_generativa\\\\images\\\\unique_eggs\\\\ovo_3.jpg',\n",
       " 'c:\\\\Mestrado\\\\IA GEN\\\\1 VA\\\\IA_generativa\\\\images\\\\unique_eggs\\\\ovo_4.jpg',\n",
       " 'c:\\\\Mestrado\\\\IA GEN\\\\1 VA\\\\IA_generativa\\\\images\\\\unique_eggs\\\\ovo_5.jpg',\n",
       " 'c:\\\\Mestrado\\\\IA GEN\\\\1 VA\\\\IA_generativa\\\\images\\\\unique_eggs\\\\ovo_6.jpg',\n",
       " 'c:\\\\Mestrado\\\\IA GEN\\\\1 VA\\\\IA_generativa\\\\images\\\\unique_eggs\\\\ovo_7.jpg',\n",
       " 'c:\\\\Mestrado\\\\IA GEN\\\\1 VA\\\\IA_generativa\\\\images\\\\unique_eggs\\\\ovo_8.jpg',\n",
       " 'c:\\\\Mestrado\\\\IA GEN\\\\1 VA\\\\IA_generativa\\\\images\\\\unique_eggs\\\\ovo_9.jpg',\n",
       " 'c:\\\\Mestrado\\\\IA GEN\\\\1 VA\\\\IA_generativa\\\\images\\\\unique_eggs\\\\ovo_10.jpg',\n",
       " 'c:\\\\Mestrado\\\\IA GEN\\\\1 VA\\\\IA_generativa\\\\images\\\\unique_eggs\\\\ovo_11.jpg',\n",
       " 'c:\\\\Mestrado\\\\IA GEN\\\\1 VA\\\\IA_generativa\\\\images\\\\unique_eggs\\\\ovo_12.jpg',\n",
       " 'c:\\\\Mestrado\\\\IA GEN\\\\1 VA\\\\IA_generativa\\\\images\\\\unique_eggs\\\\ovo_13.jpg',\n",
       " 'c:\\\\Mestrado\\\\IA GEN\\\\1 VA\\\\IA_generativa\\\\images\\\\unique_eggs\\\\ovo_14.jpg',\n",
       " 'c:\\\\Mestrado\\\\IA GEN\\\\1 VA\\\\IA_generativa\\\\images\\\\unique_eggs\\\\ovo_15.jpg',\n",
       " 'c:\\\\Mestrado\\\\IA GEN\\\\1 VA\\\\IA_generativa\\\\images\\\\unique_eggs\\\\ovo_16.jpg',\n",
       " 'c:\\\\Mestrado\\\\IA GEN\\\\1 VA\\\\IA_generativa\\\\images\\\\unique_eggs\\\\ovo_17.jpg',\n",
       " 'c:\\\\Mestrado\\\\IA GEN\\\\1 VA\\\\IA_generativa\\\\images\\\\unique_eggs\\\\ovo_18.jpg',\n",
       " 'c:\\\\Mestrado\\\\IA GEN\\\\1 VA\\\\IA_generativa\\\\images\\\\unique_eggs\\\\ovo_19.jpg',\n",
       " 'c:\\\\Mestrado\\\\IA GEN\\\\1 VA\\\\IA_generativa\\\\images\\\\unique_eggs\\\\ovo_20.jpg']"
      ]
     },
     "execution_count": 42,
     "metadata": {},
     "output_type": "execute_result"
    }
   ],
   "source": [
    "real_label_eggs.loc[0:19, 'path_image'].tolist()"
   ]
  },
  {
   "cell_type": "code",
   "execution_count": 28,
   "metadata": {},
   "outputs": [],
   "source": [
    "import random"
   ]
  },
  {
   "cell_type": "code",
   "execution_count": 29,
   "metadata": {},
   "outputs": [],
   "source": [
    "random.shuffle(sample)"
   ]
  },
  {
   "cell_type": "code",
   "execution_count": 37,
   "metadata": {},
   "outputs": [],
   "source": [
    "eggs_mixed = pd.DataFrame([i+1 for i in range(len(sample))], columns=['number'])\n",
    "eggs_mixed['classification'] = list(map(lambda x: x[1], sample))"
   ]
  },
  {
   "cell_type": "code",
   "execution_count": 38,
   "metadata": {},
   "outputs": [
    {
     "data": {
      "text/html": [
       "<div>\n",
       "<style scoped>\n",
       "    .dataframe tbody tr th:only-of-type {\n",
       "        vertical-align: middle;\n",
       "    }\n",
       "\n",
       "    .dataframe tbody tr th {\n",
       "        vertical-align: top;\n",
       "    }\n",
       "\n",
       "    .dataframe thead th {\n",
       "        text-align: right;\n",
       "    }\n",
       "</style>\n",
       "<table border=\"1\" class=\"dataframe\">\n",
       "  <thead>\n",
       "    <tr style=\"text-align: right;\">\n",
       "      <th></th>\n",
       "      <th>number</th>\n",
       "      <th>classification</th>\n",
       "    </tr>\n",
       "  </thead>\n",
       "  <tbody>\n",
       "    <tr>\n",
       "      <th>0</th>\n",
       "      <td>1</td>\n",
       "      <td>3</td>\n",
       "    </tr>\n",
       "    <tr>\n",
       "      <th>1</th>\n",
       "      <td>2</td>\n",
       "      <td>2</td>\n",
       "    </tr>\n",
       "    <tr>\n",
       "      <th>2</th>\n",
       "      <td>3</td>\n",
       "      <td>4</td>\n",
       "    </tr>\n",
       "    <tr>\n",
       "      <th>3</th>\n",
       "      <td>4</td>\n",
       "      <td>1</td>\n",
       "    </tr>\n",
       "    <tr>\n",
       "      <th>4</th>\n",
       "      <td>5</td>\n",
       "      <td>4</td>\n",
       "    </tr>\n",
       "    <tr>\n",
       "      <th>5</th>\n",
       "      <td>6</td>\n",
       "      <td>4</td>\n",
       "    </tr>\n",
       "    <tr>\n",
       "      <th>6</th>\n",
       "      <td>7</td>\n",
       "      <td>3</td>\n",
       "    </tr>\n",
       "    <tr>\n",
       "      <th>7</th>\n",
       "      <td>8</td>\n",
       "      <td>1</td>\n",
       "    </tr>\n",
       "    <tr>\n",
       "      <th>8</th>\n",
       "      <td>9</td>\n",
       "      <td>3</td>\n",
       "    </tr>\n",
       "    <tr>\n",
       "      <th>9</th>\n",
       "      <td>10</td>\n",
       "      <td>3</td>\n",
       "    </tr>\n",
       "    <tr>\n",
       "      <th>10</th>\n",
       "      <td>11</td>\n",
       "      <td>1</td>\n",
       "    </tr>\n",
       "    <tr>\n",
       "      <th>11</th>\n",
       "      <td>12</td>\n",
       "      <td>2</td>\n",
       "    </tr>\n",
       "    <tr>\n",
       "      <th>12</th>\n",
       "      <td>13</td>\n",
       "      <td>2</td>\n",
       "    </tr>\n",
       "    <tr>\n",
       "      <th>13</th>\n",
       "      <td>14</td>\n",
       "      <td>2</td>\n",
       "    </tr>\n",
       "    <tr>\n",
       "      <th>14</th>\n",
       "      <td>15</td>\n",
       "      <td>4</td>\n",
       "    </tr>\n",
       "    <tr>\n",
       "      <th>15</th>\n",
       "      <td>16</td>\n",
       "      <td>1</td>\n",
       "    </tr>\n",
       "  </tbody>\n",
       "</table>\n",
       "</div>"
      ],
      "text/plain": [
       "    number  classification\n",
       "0        1               3\n",
       "1        2               2\n",
       "2        3               4\n",
       "3        4               1\n",
       "4        5               4\n",
       "5        6               4\n",
       "6        7               3\n",
       "7        8               1\n",
       "8        9               3\n",
       "9       10               3\n",
       "10      11               1\n",
       "11      12               2\n",
       "12      13               2\n",
       "13      14               2\n",
       "14      15               4\n",
       "15      16               1"
      ]
     },
     "execution_count": 38,
     "metadata": {},
     "output_type": "execute_result"
    }
   ],
   "source": [
    "eggs_mixed"
   ]
  },
  {
   "cell_type": "code",
   "execution_count": 16,
   "metadata": {},
   "outputs": [
    {
     "data": {
      "text/plain": [
       "['c:\\\\Mestrado\\\\IA GEN\\\\1 VA\\\\IA_generativa\\\\images\\\\unique_eggs\\\\ovo_437.jpg',\n",
       " 'c:\\\\Mestrado\\\\IA GEN\\\\1 VA\\\\IA_generativa\\\\images\\\\unique_eggs\\\\ovo_644.jpg',\n",
       " 'c:\\\\Mestrado\\\\IA GEN\\\\1 VA\\\\IA_generativa\\\\images\\\\unique_eggs\\\\ovo_468.jpg',\n",
       " 'c:\\\\Mestrado\\\\IA GEN\\\\1 VA\\\\IA_generativa\\\\images\\\\unique_eggs\\\\ovo_297.jpg']"
      ]
     },
     "execution_count": 16,
     "metadata": {},
     "output_type": "execute_result"
    }
   ],
   "source": [
    "get_sample_one_type(real_label_eggs,4, 4)['path_image'].tolist()"
   ]
  },
  {
   "cell_type": "code",
   "execution_count": null,
   "metadata": {},
   "outputs": [],
   "source": []
  },
  {
   "cell_type": "code",
   "execution_count": 5,
   "metadata": {},
   "outputs": [],
   "source": [
    "df = df.rename(columns={'number': 'N_OVO', 'classification': 'predict'})\n",
    "df['N_OVO'] = range(1,801)"
   ]
  },
  {
   "cell_type": "code",
   "execution_count": 6,
   "metadata": {},
   "outputs": [],
   "source": [
    "from sklearn.metrics import classification_report\n",
    "from sklearn.metrics import confusion_matrix"
   ]
  },
  {
   "cell_type": "code",
   "execution_count": 7,
   "metadata": {},
   "outputs": [],
   "source": [
    "final_df = real_label_eggs.merge(df)"
   ]
  },
  {
   "cell_type": "code",
   "execution_count": 8,
   "metadata": {},
   "outputs": [],
   "source": [
    "cf_matrix = confusion_matrix(final_df['OVOSCOPIA'], final_df['predict'])"
   ]
  },
  {
   "cell_type": "code",
   "execution_count": 9,
   "metadata": {},
   "outputs": [
    {
     "name": "stdout",
     "output_type": "stream",
     "text": [
      "              precision    recall  f1-score   support\n",
      "\n",
      "           1       0.68      0.08      0.15       184\n",
      "           2       0.39      0.93      0.55       312\n",
      "           3       0.17      0.02      0.04       210\n",
      "           4       0.20      0.01      0.02        94\n",
      "\n",
      "    accuracy                           0.39       800\n",
      "   macro avg       0.36      0.26      0.19       800\n",
      "weighted avg       0.38      0.39      0.26       800\n",
      "\n"
     ]
    }
   ],
   "source": [
    "print(classification_report(final_df['OVOSCOPIA'], final_df['predict']))"
   ]
  }
 ],
 "metadata": {
  "kernelspec": {
   "display_name": ".venv",
   "language": "python",
   "name": "python3"
  },
  "language_info": {
   "codemirror_mode": {
    "name": "ipython",
    "version": 3
   },
   "file_extension": ".py",
   "mimetype": "text/x-python",
   "name": "python",
   "nbconvert_exporter": "python",
   "pygments_lexer": "ipython3",
   "version": "3.12.2"
  }
 },
 "nbformat": 4,
 "nbformat_minor": 2
}
